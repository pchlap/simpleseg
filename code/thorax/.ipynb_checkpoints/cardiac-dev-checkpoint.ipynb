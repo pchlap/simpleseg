{
 "cells": [
  {
   "cell_type": "code",
   "execution_count": 7,
   "metadata": {},
   "outputs": [
    {
     "name": "stdout",
     "output_type": "stream",
     "text": [
      "The autoreload extension is already loaded. To reload it, use:\n",
      "  %reload_ext autoreload\n"
     ]
    }
   ],
   "source": [
    "import SimpleITK as sitk\n",
    "import numpy as np\n",
    "from loguru import logger\n",
    "import os,sys\n",
    "\n",
    "from cardiac import *\n",
    "\n",
    "%load_ext autoreload\n",
    "%autoreload 2"
   ]
  },
  {
   "cell_type": "code",
   "execution_count": 8,
   "metadata": {},
   "outputs": [],
   "source": [
    "img = sitk.ReadImage(\"../../TempCardiacData/Case_03AD/Images/Case_03AD.nii.gz\")"
   ]
  },
  {
   "cell_type": "code",
   "execution_count": 42,
   "metadata": {},
   "outputs": [],
   "source": [
    "settings = {\n",
    "    'outputFormat'          : 'Auto_{0}.nii.gz',\n",
    "    'atlasSettings'         : {\n",
    "                                'atlasIdList':               ['04D1','1FA5','435F','8505'],\n",
    "                                'atlasStructures':           ['COR','LAD']\n",
    "                              },\n",
    "    'lungMaskSettings'      : {\n",
    "                                'coronalExpansion':          15,\n",
    "                                'axialExpansion':            5,\n",
    "                                'sagittalExpansion':         0,\n",
    "                                'lowerNormalisedThreshold':  -0.1,\n",
    "                                'upperNormalisedThreshold':  0.4,\n",
    "                                'voxelCountThreshold':       5e4\n",
    "                              },\n",
    "    'rigidSettings'         : {\n",
    "\n",
    "\n",
    "                              },\n",
    "    'deformableSettings'    : {\n",
    "                                'resolutionStaging':        [8,4,2],\n",
    "                                'iterationStaging':         [5,5,5],\n",
    "                                'ncores':4\n",
    "                              },\n",
    "    'IARSettings'    : {\n",
    "                                'referenceStructure':       'COR',\n",
    "                                'smoothDistanceMaps':       True,\n",
    "                                'smoothSigma':              1,\n",
    "                                'zScoreStatistic':          'MAD',\n",
    "                                'outlierMethod':            'IQR',\n",
    "                                'outlierFactor':            1.5,\n",
    "                                'minBestAtlases':           4\n",
    "                              },\n",
    "    'labelFusionSettings'   : {\n",
    "                                'voteType':                 'local'\n",
    "                              }\n",
    "}"
   ]
  },
  {
   "cell_type": "code",
   "execution_count": 26,
   "metadata": {},
   "outputs": [
    {
     "name": "stderr",
     "output_type": "stream",
     "text": [
      "2019-08-14 13:00:31.468 | INFO     | __main__:<module>:22 - \n"
     ]
    }
   ],
   "source": [
    "\"\"\"\n",
    "Initialisation - Read in atlases\n",
    "- image files\n",
    "- structure files\n",
    "\n",
    "    Atlas structure:\n",
    "    'ID': 'Original': 'CT Image'    : sitk.Image\n",
    "                      'Struct A'    : sitk.Image\n",
    "                      'Struct B'    : sitk.Image\n",
    "          'RIR'     : 'CT Image'    : sitk.Image\n",
    "                      'Transform'   : transform parameter map\n",
    "                      'Struct A'    : sitk.Image\n",
    "                      'Struct B'    : sitk.Image\n",
    "          'DIR'     : 'CT Image'    : sitk.Image\n",
    "                      'Transform'   : displacement field transform\n",
    "                      'Weight Map'  : sitk.Image\n",
    "                      'Struct A'    : sitk.Image\n",
    "                      'Struct B'    : sitk.Image\n",
    "\n",
    "\n",
    "\"\"\"\n",
    "logger.info('')\n",
    "# Settings\n",
    "atlasIdList = settings['atlasSettings']['atlasIdList']\n",
    "atlasStructures = settings['atlasSettings']['atlasStructures']\n",
    "\n",
    "atlasSet = {}\n",
    "for atlasId in atlasIdList:\n",
    "    atlasSet[atlasId] = {}\n",
    "    atlasSet[atlasId]['Original'] = {}\n",
    "\n",
    "    atlasSet[atlasId]['Original']['CT Image'] = sitk.ReadImage('../../TempCardiacData/Case_{0}/Images/Case_{0}.nii.gz'.format(atlasId))\n",
    "\n",
    "    for struct in atlasStructures:\n",
    "        atlasSet[atlasId]['Original'][struct] = sitk.ReadImage('../../TempCardiacData/Case_{0}/Structures/Case_{0}_{1}.nii.gz'.format(atlasId, struct))\n"
   ]
  },
  {
   "cell_type": "code",
   "execution_count": 27,
   "metadata": {},
   "outputs": [],
   "source": [
    "\"\"\"\n",
    "Step 1 - Automatic cropping using the lung volume\n",
    "- Airways are segmented\n",
    "- A bounding box is defined\n",
    "- Potential expansion of the bounding box to ensure entire heart volume is enclosed\n",
    "- Target image is cropped\n",
    "\"\"\"\n",
    "# Settings\n",
    "sagittalExpansion = settings['lungMaskSettings']['sagittalExpansion']\n",
    "coronalExpansion  = settings['lungMaskSettings']['coronalExpansion']\n",
    "axialExpansion    = settings['lungMaskSettings']['axialExpansion']\n",
    "\n",
    "lowerNormalisedThreshold = settings['lungMaskSettings']['lowerNormalisedThreshold']\n",
    "upperNormalisedThreshold = settings['lungMaskSettings']['upperNormalisedThreshold']\n",
    "voxelCountThreshold      = settings['lungMaskSettings']['voxelCountThreshold']\n",
    "\n",
    "# Get the bounding box containing the lungs\n",
    "lungBoundingBox, _ = AutoLungSegment(img, l=lowerNormalisedThreshold, u=upperNormalisedThreshold, NPthresh=voxelCountThreshold)\n",
    "\n",
    "# Add an optional expansion\n",
    "sag0 = max([lungBoundingBox[0] - sagittalExpansion, 0])\n",
    "cor0 = max([lungBoundingBox[1] - coronalExpansion,  0])\n",
    "ax0  = max([lungBoundingBox[2] - axialExpansion,    0])\n",
    "\n",
    "sagD = min([lungBoundingBox[3] + sagittalExpansion, img.GetSize()[0] - sag0])\n",
    "corD = min([lungBoundingBox[4] + coronalExpansion,  img.GetSize()[1] - cor0])\n",
    "axD  = min([lungBoundingBox[5] + axialExpansion,    img.GetSize()[2] - ax0])\n",
    "\n",
    "cropBox = (sag0, cor0, ax0, sagD, corD, axD)\n",
    "\n",
    "# Crop the image down\n",
    "imgCrop = CropImage(img, cropBox)"
   ]
  },
  {
   "cell_type": "code",
   "execution_count": 28,
   "metadata": {},
   "outputs": [],
   "source": [
    "\"\"\"\n",
    "Step 2 - Rigid registration of target images\n",
    "- Individual atlas images are registered to the target\n",
    "- The transformation is used to propagate the labels onto the target\n",
    "\"\"\"\n",
    "for atlasId in atlasIdList:\n",
    "    # Register the atlases\n",
    "    atlasSet[atlasId]['RIR'] = {}\n",
    "    atlasImage = atlasSet[atlasId]['Original']['CT Image']\n",
    "    rigidImage, rigidTfm = RigidRegistration(imgCrop, atlasImage,'RigidTransformParameters.txt')\n",
    "\n",
    "    # Save in the atlas dict\n",
    "    atlasSet[atlasId]['RIR']['CT Image']  = rigidImage\n",
    "    atlasSet[atlasId]['RIR']['Transform'] = rigidTfm\n",
    "\n",
    "\n",
    "    for struct in atlasStructures:\n",
    "        inputStruct = atlasSet[atlasId]['Original'][struct]\n",
    "        atlasSet[atlasId]['RIR'][struct] = RigidPropagation(imgCrop, inputStruct, rigidTfm, structure=True)\n"
   ]
  },
  {
   "cell_type": "code",
   "execution_count": 29,
   "metadata": {
    "scrolled": true
   },
   "outputs": [
    {
     "name": "stdout",
     "output_type": "stream",
     "text": [
      "  1 = 64209.13822\n",
      "  2 = 53855.53241\n",
      "  3 = 45580.64636\n",
      "  4 = 40837.58322\n",
      "  5 = 38614.79373\n",
      "  1 = 45851.04551\n",
      "  2 = 40849.63444\n",
      "  3 = 38461.55976\n",
      "  4 = 37011.06491\n",
      "  5 = 35988.55789\n",
      "  1 = 41639.26014\n",
      "  2 = 38488.26768\n",
      "  3 = 36742.65808\n",
      "  4 = 35622.09042\n",
      "  5 = 34819.46381\n",
      "  1 = 54836.99912\n",
      "  2 = 40905.58669\n",
      "  3 = 30410.08962\n",
      "  4 = 26424.06079\n",
      "  5 = 23792.32542\n",
      "  1 = 29321.99930\n",
      "  2 = 23749.33324\n",
      "  3 = 20966.94922\n",
      "  4 = 19254.92116\n",
      "  5 = 18035.54312\n",
      "  1 = 27343.45096\n",
      "  2 = 23927.82083\n",
      "  3 = 22140.57232\n",
      "  4 = 21025.63337\n",
      "  5 = 20240.20752\n",
      "  1 = 82674.91056\n",
      "  2 = 71336.54844\n",
      "  3 = 63353.13186\n",
      "  4 = 58460.56413\n",
      "  5 = 55007.15249\n",
      "  1 = 71390.11532\n",
      "  2 = 66005.55144\n",
      "  3 = 62747.52031\n",
      "  4 = 60437.05685\n",
      "  5 = 58608.37371\n",
      "  1 = 71198.26810\n",
      "  2 = 67597.98325\n",
      "  3 = 65437.00068\n",
      "  4 = 63929.95891\n",
      "  5 = 62783.19846\n",
      "  1 = 125671.99466\n",
      "  2 = 110305.16604\n",
      "  3 = 96296.45845\n",
      "  4 = 85871.79051\n",
      "  5 = 78560.16995\n",
      "  1 = 94523.17497\n",
      "  2 = 87582.16388\n",
      "  3 = 82987.29311\n",
      "  4 = 79511.15873\n",
      "  5 = 76655.55908\n",
      "  1 = 90341.20932\n",
      "  2 = 86240.09761\n",
      "  3 = 83462.99973\n",
      "  4 = 81387.74494\n",
      "  5 = 79717.50358\n"
     ]
    }
   ],
   "source": [
    "\"\"\"\n",
    "Step 3 - Deformable image registration\n",
    "- Using Fast Symmetric Diffeomorphic Demons\n",
    "\"\"\"\n",
    "# Settings\n",
    "resolutionStaging = settings['deformableSettings']['resolutionStaging']\n",
    "iterationStaging  = settings['deformableSettings']['iterationStaging']\n",
    "ncores            = settings['deformableSettings']['ncores']\n",
    "\n",
    "for atlasId in atlasIdList:\n",
    "    # Register the atlases\n",
    "    atlasSet[atlasId]['DIR'] = {}\n",
    "    atlasImage = atlasSet[atlasId]['RIR']['CT Image']\n",
    "    deformImage, deformField = FastSymmetricForcesDemonsRegistration(imgCrop, atlasImage, resolutionStaging=resolutionStaging, iterationStaging=iterationStaging, ncores=ncores)\n",
    "\n",
    "    # Save in the atlas dict\n",
    "    atlasSet[atlasId]['DIR']['CT Image']  = deformImage\n",
    "    atlasSet[atlasId]['DIR']['Transform'] = deformField\n",
    "\n",
    "    for struct in atlasStructures:\n",
    "        inputStruct = atlasSet[atlasId]['RIR'][struct]\n",
    "        atlasSet[atlasId]['DIR'][struct] = ApplyField(inputStruct, deformField, 1, 0)"
   ]
  },
  {
   "cell_type": "code",
   "execution_count": 57,
   "metadata": {
    "scrolled": true
   },
   "outputs": [
    {
     "name": "stdout",
     "output_type": "stream",
     "text": [
      "Iterative atlas removal: \n",
      "  Beginning process\n",
      "  Less than 12 atlases, resolution set: 3x3 sqr deg\n",
      "  Calculating surface distance maps: \n",
      "    04D1     1FA5     435F     8505 \n",
      "    MAD zero count: 489\n",
      "    MAD zero count: 508\n",
      "    MAD zero count: 401\n",
      "    MAD zero count: 300\n",
      "  Analysing results\n",
      "   Outlier limit: 18.855\n",
      "      04D1: Q = 15.904 [KEEP]\n",
      "      1FA5: Q = 07.544 [KEEP]\n",
      "      435F: Q = 10.187 [KEEP]\n",
      "      8505: Q = 04.530 [KEEP]\n",
      "  End point reached. Keeping:\n",
      "   ['04D1', '1FA5', '435F', '8505']\n"
     ]
    }
   ],
   "source": [
    "\"\"\"\n",
    "Step 4 - Iterative atlas removal\n",
    "- This is an automatic process that will attempt to remove inconsistent atlases from the entire set\n",
    "\n",
    "\"\"\"\n",
    "\n",
    "# Compute weight maps\n",
    "for atlasId in atlasIdList:\n",
    "    atlasImage = atlasSet[atlasId]['DIR']['CT Image']\n",
    "    weightMap = computeWeightMap(imgCrop, atlasImage)\n",
    "    atlasSet[atlasId]['DIR']['Weight Map'] = weightMap\n",
    "    \n",
    "    \n",
    "combinedLabelDict = combineLabels(atlasSet, 'COR')\n",
    "\n",
    "referenceStructure  = settings['IARSettings']['referenceStructure']\n",
    "smoothDistanceMaps  = settings['IARSettings']['smoothDistanceMaps']\n",
    "smoothSigma         = settings['IARSettings']['smoothSigma']\n",
    "zScoreStatistic     = settings['IARSettings']['zScoreStatistic']\n",
    "outlierMethod       = settings['IARSettings']['outlierMethod']\n",
    "outlierFactor       = settings['IARSettings']['outlierFactor']\n",
    "minBestAtlases      = settings['IARSettings']['minBestAtlases']\n",
    "\n",
    "atlasSet = IAR(atlasSet         = atlasSet,\n",
    "               structureName    = referenceStructure,\n",
    "               smoothMaps       = smoothDistanceMaps,\n",
    "               smoothSigma      = smoothSigma,\n",
    "               zScore           = zScoreStatistic,\n",
    "               outlierMethod    = outlierMethod,\n",
    "               minBestAtlases   = minBestAtlases,\n",
    "               N_factor         = outlierFactor,\n",
    "               logFile          = 'IAR_{0}.log'.format(datetime.datetime.now()),\n",
    "               debug            = False,\n",
    "               iteration        = 0,\n",
    "               singleStep       = False)"
   ]
  },
  {
   "cell_type": "code",
   "execution_count": 58,
   "metadata": {},
   "outputs": [],
   "source": [
    "\"\"\"\n",
    "Step 5 - Label Fusion\n",
    "\"\"\"\n",
    "combinedLabelDict = combineLabels(atlasSet, atlasStructures)"
   ]
  },
  {
   "cell_type": "code",
   "execution_count": 62,
   "metadata": {},
   "outputs": [],
   "source": [
    "\"\"\"\n",
    "Step 6 - Paste the cropped structure into the original image space\n",
    "\"\"\"\n",
    "\n",
    "outputFormat = settings['outputFormat']\n",
    "\n",
    "templateIm = sitk.Cast((img * 0),sitk.sitkUInt8)\n",
    "\n",
    "for structureName in atlasStructures:\n",
    "    binaryStruct = processProbabilityImage(combinedLabelDict[structureName], 0.5)\n",
    "    pasteImg = sitk.Paste(templateIm, binaryStruct, binaryStruct.GetSize(), (0,0,0), (sag0, cor0, ax0))\n",
    "\n",
    "    # Write the mask to a file in the working_dir\n",
    "    mask_file = os.path.join(\n",
    "        '.', outputFormat.format(structureName))\n",
    "    sitk.WriteImage(pasteImg, mask_file)\n"
   ]
  },
  {
   "cell_type": "code",
   "execution_count": 64,
   "metadata": {},
   "outputs": [],
   "source": [
    "import vtk"
   ]
  },
  {
   "cell_type": "code",
   "execution_count": 66,
   "metadata": {},
   "outputs": [
    {
     "data": {
      "text/plain": [
       "(vtkCommonDataModelPython.vtkImageData)0x7fcb173e99a8"
      ]
     },
     "execution_count": 66,
     "metadata": {},
     "output_type": "execute_result"
    }
   ],
   "source": [
    "reader = vtk.vtkNIFTIImageReader()\n",
    "reader.SetFileName('./Auto_COR.nii.gz')\n",
    "reader.Update()\n",
    "outputImage = reader.GetOutput()\n",
    "outputImage"
   ]
  },
  {
   "cell_type": "code",
   "execution_count": 86,
   "metadata": {},
   "outputs": [],
   "source": [
    "test = sitk.ReadImage('./Auto_COR.nii.gz')\n",
    "test_arr = sitk.GetArrayFromImage(test)\n",
    "\n",
    "dataImporter = vtk.vtkImageImport()\n",
    "# The preaviusly created array is converted to a string of chars and imported.\n",
    "data_string = test_arr#.tostring()\n",
    "dataImporter.CopyImportVoidPointer(data_string, len(data_string))\n",
    "# The type of the newly imported data is set to unsigned char (uint8)\n",
    "dataImporter.SetDataScalarTypeToUnsignedChar()\n",
    "# Because the data that is imported only contains an intensity value (it isnt RGB-coded or someting similar), the importer\n",
    "# must be told this is the case.\n",
    "dataImporter.SetNumberOfScalarComponents(1)\n",
    "\n",
    "outputImage_sitk = dataImporter.GetOutput()"
   ]
  },
  {
   "cell_type": "code",
   "execution_count": null,
   "metadata": {},
   "outputs": [],
   "source": []
  },
  {
   "cell_type": "code",
   "execution_count": null,
   "metadata": {},
   "outputs": [],
   "source": []
  },
  {
   "cell_type": "code",
   "execution_count": null,
   "metadata": {},
   "outputs": [],
   "source": []
  },
  {
   "cell_type": "code",
   "execution_count": 87,
   "metadata": {},
   "outputs": [
    {
     "data": {
      "text/plain": [
       "((0, -1, 0, -1, 0, -1),\n",
       " 31195136,\n",
       " (vtkCommonCorePython.vtkUnsignedCharArray)0x7fcb15f1e288)"
      ]
     },
     "execution_count": 87,
     "metadata": {},
     "output_type": "execute_result"
    }
   ],
   "source": [
    "outputImage_sitk.GetExtent(), outputImage.GetNumberOfPoints(), outputImage.GetPointData().GetScalars()"
   ]
  },
  {
   "cell_type": "code",
   "execution_count": 88,
   "metadata": {},
   "outputs": [
    {
     "data": {
      "text/plain": [
       "((0, -1, 0, -1, 0, -1), 0)"
      ]
     },
     "execution_count": 88,
     "metadata": {},
     "output_type": "execute_result"
    }
   ],
   "source": [
    "outputImage_sitk.GetExtent(), outputImage_sitk.GetNumberOfPoints(),"
   ]
  },
  {
   "cell_type": "code",
   "execution_count": null,
   "metadata": {},
   "outputs": [],
   "source": []
  }
 ],
 "metadata": {
  "kernelspec": {
   "display_name": "Python 3",
   "language": "python",
   "name": "python3"
  },
  "language_info": {
   "codemirror_mode": {
    "name": "ipython",
    "version": 3
   },
   "file_extension": ".py",
   "mimetype": "text/x-python",
   "name": "python",
   "nbconvert_exporter": "python",
   "pygments_lexer": "ipython3",
   "version": "3.6.8"
  }
 },
 "nbformat": 4,
 "nbformat_minor": 2
}

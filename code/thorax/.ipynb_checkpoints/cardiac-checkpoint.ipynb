{
 "cells": [
  {
   "cell_type": "code",
   "execution_count": 90,
   "metadata": {},
   "outputs": [],
   "source": [
    "import requests\n",
    "import time\n",
    "import json\n",
    "from pprint import pprint\n",
    "import os, sys\n",
    "import pydicom\n",
    "\n",
    "sys.path.append(\"../../../\") # Path containing IMPIT library\n",
    "from impit.dicom.communication import DicomConnector\n",
    "\n",
    "\n",
    "base_url = 'http://localhost:8000'\n",
    "api_key = 'f0237de6-d92c-4eaf-9b41-b9bc61b9d9c1'\n",
    "algorithm_name = 'Cardiac Segmentation'\n",
    "api_dicom_location = '{0}/api/dicomlocation'.format(base_url)\n",
    "api_dataset = '{0}/api/dataset'.format(base_url)\n",
    "api_dataset_ready = '{0}/api/dataset/ready'.format(base_url)\n",
    "api_data_object = '{0}/api/dataobject'.format(base_url)\n",
    "api_trigger = '{0}/api/trigger'.format(base_url)\n",
    "api_algorithm = '{0}/api/algorithm'.format(base_url)"
   ]
  },
  {
   "cell_type": "code",
   "execution_count": 91,
   "metadata": {},
   "outputs": [
    {
     "name": "stdout",
     "output_type": "stream",
     "text": [
      "{'default_settings': {'IARSettings': {'minBestAtlases': 4,\n",
      "                                      'outlierFactor': 1.5,\n",
      "                                      'outlierMethod': 'IQR',\n",
      "                                      'referenceStructure': 'COR',\n",
      "                                      'smoothDistanceMaps': True,\n",
      "                                      'smoothSigma': 1,\n",
      "                                      'zScoreStatistic': 'MAD'},\n",
      "                      'atlasSettings': {'atlasIdList': ['04D1'],\n",
      "                                        'atlasPath': '../../TempCardiacData',\n",
      "                                        'atlasStructures': ['COR', 'LAD']},\n",
      "                      'deformableSettings': {'iterationStaging': [1, 1, 1, 1],\n",
      "                                             'ncores': 4,\n",
      "                                             'resolutionStaging': [8, 4, 2, 1]},\n",
      "                      'labelFusionSettings': {'optimalThreshold': {'COR': 0.34},\n",
      "                                              'voteType': 'local'},\n",
      "                      'lungMaskSettings': {'axialExpansion': 5,\n",
      "                                           'coronalExpansion': 15,\n",
      "                                           'lowerNormalisedThreshold': -0.1,\n",
      "                                           'sagittalExpansion': 0,\n",
      "                                           'upperNormalisedThreshold': 0.4,\n",
      "                                           'voxelCountThreshold': 50000.0},\n",
      "                      'outputFormat': 'Auto_{0}.nii.gz',\n",
      "                      'rigidSettings': {},\n",
      "                      'vesselSpliningSettings': {'spliningDirection': {'LAD': 'z'},\n",
      "                                                 'stopCondition': {'LAD': 'count'},\n",
      "                                                 'stopConditionValue': {'LAD': 1},\n",
      "                                                 'vesselNameList': ['LAD'],\n",
      "                                                 'vesselRadius_mm': {'LAD': 2.2}}},\n",
      " 'name': 'Cardiac Segmentation'}\n",
      "\n",
      "Look's Good!\n"
     ]
    }
   ],
   "source": [
    "# Get the algorithm and the default settings\n",
    "algorithm = None\n",
    "r = requests.get(api_algorithm, headers={'API_KEY': api_key})\n",
    "if r.status_code == 200:\n",
    "    for a in r.json():\n",
    "        pprint(a)\n",
    "        if a['name'] == algorithm_name:\n",
    "            algorithm = a\n",
    "    print(\"\")\n",
    "    print(\"Look's Good!\")\n",
    "else:\n",
    "    print(\"Oops, something went wrong. Ensure the service is running at the base_url configured and that the API Key has been generated and set in api_key.\")"
   ]
  },
  {
   "cell_type": "code",
   "execution_count": 92,
   "metadata": {},
   "outputs": [
    {
     "name": "stdout",
     "output_type": "stream",
     "text": [
      "{'from_dicom_location': None,\n",
      " 'from_dicom_location_id': None,\n",
      " 'id': 29,\n",
      " 'input_data_objects': [],\n",
      " 'output_data_objects': [],\n",
      " 'owner_key': 'f0237de6-d92c-4eaf-9b41-b9bc61b9d9c1',\n",
      " 'timeout': '2019-08-20T13:48:44.450',\n",
      " 'timestamp': '2019-08-19T03:48:44.453',\n",
      " 'to_dicom_location': None,\n",
      " 'to_dicom_location_id': None}\n"
     ]
    }
   ],
   "source": [
    "# Create a new Dataset\n",
    "dataset = None\n",
    "r = requests.post(api_dataset, headers={'API_KEY': api_key}, data={})\n",
    "if r.status_code >= 200:\n",
    "        dataset = r.json()\n",
    "        \n",
    "pprint(dataset)"
   ]
  },
  {
   "cell_type": "code",
   "execution_count": 93,
   "metadata": {},
   "outputs": [
    {
     "name": "stdout",
     "output_type": "stream",
     "text": [
      "{'children': [],\n",
      " 'dataset_id': 29,\n",
      " 'id': 51,\n",
      " 'is_fetched': True,\n",
      " 'is_input': True,\n",
      " 'is_sent': False,\n",
      " 'meta_data': None,\n",
      " 'parent': None,\n",
      " 'parent_id': None,\n",
      " 'path': '/tmp/tmpqr37jguc/case_03ad.nii.gz',\n",
      " 'series_instance_uid': None,\n",
      " 'status': None,\n",
      " 'timestamp': '2019-08-19T03:48:45.570',\n",
      " 'type': 'FILE'}\n"
     ]
    }
   ],
   "source": [
    "# Add a Dicom file to the dataset\n",
    "ID = 'FF22'\n",
    "path_to_nii = f'../../TempCardiacData/Case_{ID}/Images/Case_{ID}.nii.gz'\n",
    "data_object = None\n",
    "\n",
    "# Get the Series UID of this Data Object\n",
    "with open(path_to_nii,'rb') as file:\n",
    "\n",
    "    data = {'dataset': dataset['id'],\n",
    "            'type': 'FILE',\n",
    "            'file_name': 'case_03ad.nii.gz'}\n",
    "    \n",
    "    r = requests.post(api_data_object, headers={'API_KEY': api_key}, data=data, files={'file_data':file})\n",
    "    if r.status_code >= 200:\n",
    "            data_object = r.json()\n",
    "        \n",
    "pprint(data_object)"
   ]
  },
  {
   "cell_type": "code",
   "execution_count": 94,
   "metadata": {},
   "outputs": [
    {
     "name": "stdout",
     "output_type": "stream",
     "text": [
      "The server has the data and is ready!\n"
     ]
    }
   ],
   "source": [
    "r = requests.get('{0}/{1}'.format(api_data_object, data_object['id']), headers={'API_KEY': api_key})\n",
    "if r.status_code == 200:\n",
    "    data_object = r.json()\n",
    "    \n",
    "if data_object['is_fetched']:\n",
    "    print('The server has the data and is ready!')\n",
    "else:\n",
    "    print('The server is still receiving the data or something has gone wrong.')"
   ]
  },
  {
   "cell_type": "code",
   "execution_count": 95,
   "metadata": {},
   "outputs": [
    {
     "name": "stdout",
     "output_type": "stream",
     "text": [
      "The Dataset is ready, let's run the algorithm!\n"
     ]
    }
   ],
   "source": [
    "r = requests.get('{0}/{1}'.format(api_dataset_ready, dataset['id']), headers={'API_KEY': api_key})\n",
    "if r.status_code == 200:\n",
    "    if r.json()['ready']:\n",
    "        print(\"The Dataset is ready, let's run the algorithm!\")\n",
    "    else:\n",
    "        print(\"Nope, the dataset isn't ready yet\")"
   ]
  },
  {
   "cell_type": "code",
   "execution_count": 96,
   "metadata": {
    "scrolled": true
   },
   "outputs": [
    {
     "name": "stdout",
     "output_type": "stream",
     "text": [
      "{'state': 'PENDING', 'current': 0, 'total': 1, 'status': 'Pending...'}\n",
      "{'state': 'RUNNING', 'current': 0, 'total': 1, 'status': 'Running Algorithm: Cardiac Segmentation'}\n",
      "{'state': 'RUNNING', 'current': 0, 'total': 1, 'status': 'Running Algorithm: Cardiac Segmentation'}\n",
      "{'state': 'RUNNING', 'current': 0, 'total': 1, 'status': 'Running Algorithm: Cardiac Segmentation'}\n",
      "{'state': 'RUNNING', 'current': 0, 'total': 1, 'status': 'Running Algorithm: Cardiac Segmentation'}\n",
      "{'state': 'RUNNING', 'current': 0, 'total': 1, 'status': 'Running Algorithm: Cardiac Segmentation'}\n",
      "{'state': 'RUNNING', 'current': 0, 'total': 1, 'status': 'Running Algorithm: Cardiac Segmentation'}\n",
      "{'state': 'FAILURE', 'current': 1, 'total': 1, 'status': 'Worker exited prematurely: signal 11 (SIGSEGV).'}\n",
      "Algorithm Processing Complete\n"
     ]
    }
   ],
   "source": [
    "# Trigger the algorithm with our dataset containing the data object\n",
    "data={'dataset': dataset['id'],\n",
    "     'algorithm': 'Cardiac Segmentation'}\n",
    "r = requests.post(api_trigger, headers={'API_KEY': api_key}, data=data)\n",
    "\n",
    "if r.status_code == 200:\n",
    "    # Poll the URL given to determine the progress of the task\n",
    "    poll_url = '{0}{1}'.format(base_url, r.json()['poll'])\n",
    "    \n",
    "    while(1):\n",
    "        r = requests.get(poll_url, headers={'API_KEY': api_key})\n",
    "        status = r.json()\n",
    "        print(status)\n",
    "\n",
    "        if status['state'] == 'SUCCESS' or status['state'] == 'FAILURE':\n",
    "            break\n",
    "\n",
    "        time.sleep(2)\n",
    "else:\n",
    "    print(r.json())\n",
    "    \n",
    "print('Algorithm Processing Complete')"
   ]
  },
  {
   "cell_type": "code",
   "execution_count": 66,
   "metadata": {},
   "outputs": [
    {
     "name": "stdout",
     "output_type": "stream",
     "text": [
      "{'from_dicom_location': None,\n",
      " 'from_dicom_location_id': None,\n",
      " 'id': 25,\n",
      " 'input_data_objects': [{'children': [{'children': [],\n",
      "                                       'dataset_id': 25,\n",
      "                                       'id': 46,\n",
      "                                       'is_fetched': False,\n",
      "                                       'is_input': False,\n",
      "                                       'is_sent': False,\n",
      "                                       'meta_data': None,\n",
      "                                       'parent_id': 45,\n",
      "                                       'path': '/tmp/tmpwrszvpdd/Auto_COR.nii.gz',\n",
      "                                       'series_instance_uid': None,\n",
      "                                       'status': None,\n",
      "                                       'timestamp': '2019-08-19T01:55:05.719',\n",
      "                                       'type': 'FILE'},\n",
      "                                      {'children': [],\n",
      "                                       'dataset_id': 25,\n",
      "                                       'id': 47,\n",
      "                                       'is_fetched': False,\n",
      "                                       'is_input': False,\n",
      "                                       'is_sent': False,\n",
      "                                       'meta_data': None,\n",
      "                                       'parent_id': 45,\n",
      "                                       'path': '/tmp/tmpwrszvpdd/Auto_LAD.nii.gz',\n",
      "                                       'series_instance_uid': None,\n",
      "                                       'status': None,\n",
      "                                       'timestamp': '2019-08-19T01:55:05.740',\n",
      "                                       'type': 'FILE'}],\n",
      "                         'dataset_id': 25,\n",
      "                         'id': 45,\n",
      "                         'is_fetched': True,\n",
      "                         'is_input': True,\n",
      "                         'is_sent': False,\n",
      "                         'meta_data': None,\n",
      "                         'parent': None,\n",
      "                         'parent_id': None,\n",
      "                         'path': '/tmp/tmpkcmjj63b/case_03ad.nii.gz',\n",
      "                         'series_instance_uid': None,\n",
      "                         'status': None,\n",
      "                         'timestamp': '2019-08-19T01:50:39.324',\n",
      "                         'type': 'FILE'}],\n",
      " 'output_data_objects': [{'children': [],\n",
      "                          'dataset_id': 25,\n",
      "                          'id': 46,\n",
      "                          'is_fetched': False,\n",
      "                          'is_input': False,\n",
      "                          'is_sent': False,\n",
      "                          'meta_data': None,\n",
      "                          'parent_id': 45,\n",
      "                          'path': '/tmp/tmpwrszvpdd/Auto_COR.nii.gz',\n",
      "                          'series_instance_uid': None,\n",
      "                          'status': None,\n",
      "                          'timestamp': '2019-08-19T01:55:05.719',\n",
      "                          'type': 'FILE'},\n",
      "                         {'children': [],\n",
      "                          'dataset_id': 25,\n",
      "                          'id': 47,\n",
      "                          'is_fetched': False,\n",
      "                          'is_input': False,\n",
      "                          'is_sent': False,\n",
      "                          'meta_data': None,\n",
      "                          'parent_id': 45,\n",
      "                          'path': '/tmp/tmpwrszvpdd/Auto_LAD.nii.gz',\n",
      "                          'series_instance_uid': None,\n",
      "                          'status': None,\n",
      "                          'timestamp': '2019-08-19T01:55:05.740',\n",
      "                          'type': 'FILE'}],\n",
      " 'owner_key': 'f0237de6-d92c-4eaf-9b41-b9bc61b9d9c1',\n",
      " 'timeout': '2019-08-20T11:48:18.937',\n",
      " 'timestamp': '2019-08-19T01:48:18.937',\n",
      " 'to_dicom_location': None,\n",
      " 'to_dicom_location_id': None}\n",
      "Downloading to: Auto_COR.nii.gz\n",
      "Downloading to: Auto_LAD.nii.gz\n"
     ]
    }
   ],
   "source": [
    "# Fetch the latest dataset to see the output objects and download the Nifti file!\n",
    "r = requests.get('{0}/{1}'.format(api_dataset, dataset['id']), headers={'API_KEY': api_key})\n",
    "if r.status_code == 200:\n",
    "    dataset = r.json()\n",
    "    pprint(dataset)\n",
    "\n",
    "    for d in dataset['output_data_objects']:\n",
    "        if d['path'].endswith('nii.gz'):\n",
    "            #print(d)\n",
    "            r = requests.get('http://localhost:8000/api/dataobject/download/{0}'.format(d['id']), headers={'API_KEY': api_key})\n",
    "            filename = r.headers['Content-Disposition'].split('filename=')[1]\n",
    "            print('Downloading to: {0}'.format(filename))\n",
    "            open(filename, 'wb').write(r.content)"
   ]
  },
  {
   "cell_type": "code",
   "execution_count": 67,
   "metadata": {},
   "outputs": [
    {
     "data": {
      "text/plain": [
       "{'ready': True}"
      ]
     },
     "execution_count": 67,
     "metadata": {},
     "output_type": "execute_result"
    }
   ],
   "source": [
    "r = requests.get('{0}/{1}'.format(api_dataset_ready, dataset['id']), headers={'API_KEY': api_key})\n",
    "r.json()"
   ]
  },
  {
   "cell_type": "code",
   "execution_count": null,
   "metadata": {},
   "outputs": [],
   "source": []
  }
 ],
 "metadata": {
  "kernelspec": {
   "display_name": "Python 3",
   "language": "python",
   "name": "python3"
  },
  "language_info": {
   "codemirror_mode": {
    "name": "ipython",
    "version": 3
   },
   "file_extension": ".py",
   "mimetype": "text/x-python",
   "name": "python",
   "nbconvert_exporter": "python",
   "pygments_lexer": "ipython3",
   "version": "3.7.1"
  }
 },
 "nbformat": 4,
 "nbformat_minor": 2
}

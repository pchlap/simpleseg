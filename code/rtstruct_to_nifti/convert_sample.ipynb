{
 "cells": [
  {
   "cell_type": "markdown",
   "metadata": {},
   "source": [
    "# Convert Dicom RTStruct to Nifti contour mask\n",
    "\n",
    "This notebook demonstrates how use the rtstruct_to_nifti script to convert a Dicom RTStruct file to Nifti contour masks."
   ]
  },
  {
   "cell_type": "markdown",
   "metadata": {},
   "source": [
    "**Import the convert_rtstruct function.**"
   ]
  },
  {
   "cell_type": "code",
   "execution_count": null,
   "metadata": {},
   "outputs": [],
   "source": [
    "import sys\n",
    "sys.path.append(\"../../../\") # Path containing IMPIT library\n",
    "from impit.dicom.rtstruct_to_nifti.convert import convert_rtstruct"
   ]
  },
  {
   "cell_type": "markdown",
   "metadata": {},
   "source": [
    "**Define the RTStruct file which contains the contours to convert, as well as the corresponding image series (in this case a CT image).**\n",
    "\n",
    "The image series is required as the output masks will be generated in the same image space as this series."
   ]
  },
  {
   "cell_type": "code",
   "execution_count": null,
   "metadata": {},
   "outputs": [],
   "source": [
    "rtstruct_in = r'../data/phantom/RTStruct.dcm' # Path to RTStruct file\n",
    "ct_in = r'../data/phantom/CT' # Path to CT directory"
   ]
  },
  {
   "cell_type": "markdown",
   "metadata": {},
   "source": [
    "**Call the convert_rtstruct function to generate the contours.**\n",
    "\n",
    "Optional settings defining the prefix for the mask files generated and the output directory are also passed in to the function."
   ]
  },
  {
   "cell_type": "code",
   "execution_count": null,
   "metadata": {},
   "outputs": [],
   "source": [
    "pre = 'Case_01_' # Define a prefix for generated masks\n",
    "od = 'case_01_output' # Enter a directory name in which to place generated files\n",
    "\n",
    "# Pass these additional settings to the function as keyword arguments\n",
    "convert_rtstruct(ct_in, rtstruct_in, prefix=pre, output_dir=od)"
   ]
  },
  {
   "cell_type": "markdown",
   "metadata": {},
   "source": [
    "**Another setting which can be useful is to also output the image series as a Nifti file into the output directory. You can also specify the pixel spacing of the output:**"
   ]
  },
  {
   "cell_type": "code",
   "execution_count": null,
   "metadata": {},
   "outputs": [],
   "source": [
    "img_out = 'my_image' # The name of the output image\n",
    "\n",
    "# A list containing the desired image spacing (x,y,z).\n",
    "# A value of 0 indicates that the spacing should not be \n",
    "# changed in that dimension.\n",
    "px_space = [1,1,0]\n",
    "\n",
    "# Pass these additional settings to the function as keyword arguments\n",
    "convert_rtstruct(ct_in, rtstruct_in, prefix=pre, output_dir=od, output_img=img_out, spacing=px_space)"
   ]
  },
  {
   "cell_type": "markdown",
   "metadata": {},
   "source": [
    "**Take a look in the case_01_output directory to see the output files!**"
   ]
  }
 ],
 "metadata": {
  "kernelspec": {
   "display_name": "Python 3",
   "language": "python",
   "name": "python3"
  },
  "language_info": {
   "codemirror_mode": {
    "name": "ipython",
    "version": 3
   },
   "file_extension": ".py",
   "mimetype": "text/x-python",
   "name": "python",
   "nbconvert_exporter": "python",
   "pygments_lexer": "ipython3",
   "version": "3.6.5"
  }
 },
 "nbformat": 4,
 "nbformat_minor": 2
}

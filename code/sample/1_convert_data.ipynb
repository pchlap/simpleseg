{
 "cells": [
  {
   "cell_type": "markdown",
   "metadata": {},
   "source": [
    "## Dicom -> Nifti data conversion\n",
    "\n",
    "Before making use of the atlas based segmentation tools in this repository, all data should be converted from Dicom to Nifti as a first step. This Jupyter Notebook demonstrates how this can be done."
   ]
  },
  {
   "cell_type": "code",
   "execution_count": null,
   "metadata": {},
   "outputs": [],
   "source": [
    "import sys\n",
    "import os\n",
    "sys.path.append('../../..')\n",
    "\n",
    "import pydicom\n",
    "\n",
    "from impit.dicom.rtstruct_to_nifti.convert import convert_rtstruct\n",
    "\n",
    "dicom_search_path = \"/path/to/dicom/data\" # Location where Dicom data is stored\n",
    "data_path = './data' # Path where converted files should be placed"
   ]
  },
  {
   "cell_type": "markdown",
   "metadata": {},
   "source": [
    "**The following cell crawls the Dicom search path to find one series per directory**\n",
    "\n",
    "*Note: this was designed to be run on data that was exported from MIM*"
   ]
  },
  {
   "cell_type": "code",
   "execution_count": null,
   "metadata": {},
   "outputs": [],
   "source": [
    "data_objects = {}\n",
    "\n",
    "for root, dirs, files in os.walk(dicom_search_path, topdown=False):\n",
    "    for name in files:\n",
    "        f = os.path.join(root, name)\n",
    "        ds = pydicom.read_file(f, force=True)\n",
    "        \n",
    "        if not 'Modality' in ds:\n",
    "            continue\n",
    "        \n",
    "        case = ds.PatientID.split(' ')[1]\n",
    "\n",
    "        if not case in data_objects:\n",
    "            data_objects[case] = {}\n",
    "        \n",
    "        p = f\n",
    "        if ds.Modality == 'CT':\n",
    "            p = os.path.dirname(f)\n",
    "            \n",
    "        do = {\n",
    "            'seriesInstanceUID': ds.SeriesInstanceUID, \n",
    "            'path': p}\n",
    "        data_objects[case][ds.Modality] = do\n",
    "        \n",
    "        break # Only read one file per dir\n"
   ]
  },
  {
   "cell_type": "markdown",
   "metadata": {},
   "source": [
    "**Now that all Dicom data has been found, convert it to Nifti**"
   ]
  },
  {
   "cell_type": "code",
   "execution_count": null,
   "metadata": {},
   "outputs": [],
   "source": [
    "import SimpleITK as sitk\n",
    "\n",
    "for case in data_objects:\n",
    "    \n",
    "    case_dir = os.path.join(data_path, case)\n",
    "    if not os.path.exists(case_dir):\n",
    "        os.makedirs(case_dir)\n",
    "    do = data_objects[case]\n",
    "   \n",
    "    # Convert the CT and RT Struct\n",
    "    ct_path = do['CT']['path']\n",
    "    rtstruct_path = do['RTSTRUCT']['path']\n",
    "    convert_rtstruct(ct_path, rtstruct_path, output_img='CT.nii.gz', output_dir=case_dir)\n"
   ]
  },
  {
   "cell_type": "code",
   "execution_count": null,
   "metadata": {},
   "outputs": [],
   "source": []
  }
 ],
 "metadata": {
  "kernelspec": {
   "display_name": "Python 3",
   "language": "python",
   "name": "python3"
  },
  "language_info": {
   "codemirror_mode": {
    "name": "ipython",
    "version": 3
   },
   "file_extension": ".py",
   "mimetype": "text/x-python",
   "name": "python",
   "nbconvert_exporter": "python",
   "pygments_lexer": "ipython3",
   "version": "3.6.8"
  }
 },
 "nbformat": 4,
 "nbformat_minor": 4
}
